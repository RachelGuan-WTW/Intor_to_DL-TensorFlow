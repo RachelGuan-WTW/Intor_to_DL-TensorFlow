{
 "cells": [
  {
   "cell_type": "markdown",
   "metadata": {},
   "source": [
    "### 基于花类数据来进行tfdatasetrecord实战"
   ]
  },
  {
   "cell_type": "code",
   "execution_count": 1,
   "metadata": {},
   "outputs": [
    {
     "name": "stdout",
     "output_type": "stream",
     "text": [
      "2.0.0\n",
      "True\n"
     ]
    }
   ],
   "source": [
    "import tensorflow as tf\n",
    "import os\n",
    "import numpy as np\n",
    "import pandas as pd\n",
    "import matplotlib.pyplot as plt\n",
    "\n",
    "print(tf.__version__)\n",
    "print(tf.test.is_gpu_available()) "
   ]
  },
  {
   "cell_type": "markdown",
   "metadata": {},
   "source": [
    "## 将图片数据保存成为tfrecord格式"
   ]
  },
  {
   "cell_type": "code",
   "execution_count": 2,
   "metadata": {},
   "outputs": [],
   "source": [
    "flower_dir=\"./flower_photos/flower_photos/\"\n",
    "\n",
    "daisy_dir=flower_dir+'daisy/'\n",
    "dandelion_dir=flower_dir+'dandelion/'\n",
    "roses_dir=flower_dir+'roses/'\n",
    "sunflowers_dir=flower_dir+'sunflowers/'\n",
    "tulips_dir=flower_dir+'tulips/'"
   ]
  },
  {
   "cell_type": "code",
   "execution_count": 3,
   "metadata": {},
   "outputs": [
    {
     "data": {
      "text/plain": [
       "12"
      ]
     },
     "execution_count": 3,
     "metadata": {},
     "output_type": "execute_result"
    }
   ],
   "source": [
    "len(os.listdir(daisy_dir))"
   ]
  },
  {
   "cell_type": "code",
   "execution_count": 4,
   "metadata": {},
   "outputs": [],
   "source": [
    "#将图片路径读入，然后统一应用函数来解析\n",
    "train_daisy=tf.constant([daisy_dir + filename for filename in os.listdir(daisy_dir)])\n",
    "train_dandelion=tf.constant([dandelion_dir + filename for filename in os.listdir(dandelion_dir)])\n",
    "train_roses=tf.constant([roses_dir + filename for filename in os.listdir(roses_dir)])\n",
    "train_sunflowers=tf.constant([sunflowers_dir + filename for filename in os.listdir(sunflowers_dir)])\n",
    "train_tulips=tf.constant([tulips_dir + filename for filename in os.listdir(tulips_dir)])\n",
    "\n",
    "train_filenames=tf.concat([train_daisy,train_dandelion,train_roses,train_sunflowers,train_tulips],axis=-1)"
   ]
  },
  {
   "cell_type": "code",
   "execution_count": 5,
   "metadata": {},
   "outputs": [],
   "source": [
    "# train_filenames"
   ]
  },
  {
   "cell_type": "code",
   "execution_count": 6,
   "metadata": {},
   "outputs": [],
   "source": [
    "#处理标签\n",
    "train_labels = tf.concat([\n",
    "    tf.zeros(train_daisy.shape, dtype=tf.int32), \n",
    "    tf.ones(train_dandelion.shape, dtype=tf.int32),\n",
    "    2*tf.ones(train_roses.shape, dtype=tf.int32),\n",
    "    3*tf.ones(train_sunflowers.shape, dtype=tf.int32),\n",
    "    4*tf.ones(train_tulips.shape, dtype=tf.int32)\n",
    "    ], \n",
    "    axis=-1)"
   ]
  },
  {
   "cell_type": "code",
   "execution_count": 7,
   "metadata": {},
   "outputs": [
    {
     "data": {
      "text/plain": [
       "<tf.Tensor: id=29, shape=(60,), dtype=int32, numpy=\n",
       "array([0, 0, 0, 0, 0, 0, 0, 0, 0, 0, 0, 0, 1, 1, 1, 1, 1, 1, 1, 1, 1, 1,\n",
       "       1, 1, 2, 2, 2, 2, 2, 2, 2, 2, 2, 2, 2, 2, 3, 3, 3, 3, 3, 3, 3, 3,\n",
       "       3, 3, 3, 3, 4, 4, 4, 4, 4, 4, 4, 4, 4, 4, 4, 4])>"
      ]
     },
     "execution_count": 7,
     "metadata": {},
     "output_type": "execute_result"
    }
   ],
   "source": [
    "train_labels"
   ]
  },
  {
   "cell_type": "code",
   "execution_count": 8,
   "metadata": {},
   "outputs": [],
   "source": [
    "train_tfrecord_file ='./flower_train.tfrecords'#不需要事先存在\n",
    "\n",
    "with tf.io.TFRecordWriter(train_tfrecord_file) as writer:\n",
    "    for filename, label in zip(train_filenames, train_labels):\n",
    "        image = open(filename.numpy(), 'rb').read()     # 读取数据集图片到内存，image 为一个 Byte 类型的字符串   \n",
    "#         print(image)\n",
    "        feature = {                             # 建立 tf.train.Feature 字典\n",
    "            'image': tf.train.Feature(bytes_list=tf.train.BytesList(value=[image])),  # 图片是一个 Bytes 对象\n",
    "            'label': tf.train.Feature(int64_list=tf.train.Int64List(value=[label]))   # 标签是一个 Int 对象\n",
    "        }\n",
    "        example = tf.train.Example(features=tf.train.Features(feature=feature)) # 通过字典建立 Example\n",
    "        writer.write(example.SerializeToString())   # 将Example序列化并写入 TFRecord 文件"
   ]
  },
  {
   "cell_type": "markdown",
   "metadata": {},
   "source": [
    "## 评价\n",
    "在创建tfrecord的时候容易存在数据读取有误。也就是在步骤image=open(filename,'rb').read()这一步，报错IOPub data rate exceeded\n",
    "\n",
    "要尝试扩大容量\n",
    "找到配置文件 jupyter_notebook_config.py中的iopub_data_rate_limit的数值要扩大N倍\n",
    "1. 在prompt里面输入 jupyter notebook --generate-config\n",
    "2. 在找到的jupyter_notebook_config.py中寻找iopub_data_rate_limit\n",
    "3. 将iopub_data_rate_limit的数值扩大N倍,去掉前面的#\n",
    "4. 重启anaconda"
   ]
  },
  {
   "cell_type": "code",
   "execution_count": 9,
   "metadata": {},
   "outputs": [],
   "source": [
    "# help(tf.io.TFRecordWriter)"
   ]
  },
  {
   "cell_type": "markdown",
   "metadata": {},
   "source": [
    "### 之后数据处理可以仿照别的程序\n",
    "- 之后仿照4.1读入训练数据\n",
    "- repeat\n",
    "- shuffle\n",
    "- batch\n",
    "同样处理测试数据\n",
    "- 构建模型\n",
    "- 损失函数、优化器、评估函数\n",
    "- 关键步骤变成静态函数\n",
    "- 多epoch多batch来运行模型结果"
   ]
  },
  {
   "cell_type": "code",
   "execution_count": 10,
   "metadata": {},
   "outputs": [],
   "source": [
    "train_dataset = tf.data.TFRecordDataset(\"flower_train.tfrecords\")    # 读取 TFRecord 文件,此时的文件为图片"
   ]
  },
  {
   "cell_type": "code",
   "execution_count": 11,
   "metadata": {},
   "outputs": [
    {
     "name": "stdout",
     "output_type": "stream",
     "text": [
      "tf.Tensor(\n",
      "[[[0.99607843 0.99607843 0.99607843]\n",
      "  [0.99607843 0.99607843 0.99607843]\n",
      "  [0.99607843 0.99607843 0.99607843]\n",
      "  ...\n",
      "  [0.99607843 0.99607843 0.99607843]\n",
      "  [0.99607843 0.99607843 0.99607843]\n",
      "  [0.99607843 0.99607843 0.99607843]]\n",
      "\n",
      " [[0.99607843 0.99607843 0.99607843]\n",
      "  [0.99607843 0.99607843 0.99607843]\n",
      "  [0.99607843 0.99607843 0.99607843]\n",
      "  ...\n",
      "  [0.99607843 0.99607843 0.99607843]\n",
      "  [0.99607843 0.99607843 0.99607843]\n",
      "  [0.99607843 0.99607843 0.99607843]]\n",
      "\n",
      " [[0.99607843 0.99607843 0.99607843]\n",
      "  [0.99607843 0.99607843 0.99607843]\n",
      "  [0.99607843 0.99607843 0.99607843]\n",
      "  ...\n",
      "  [0.99607843 0.99607843 0.99607843]\n",
      "  [0.99607843 0.99607843 0.99607843]\n",
      "  [0.99607843 0.99607843 0.99607843]]\n",
      "\n",
      " ...\n",
      "\n",
      " [[0.99607843 0.99607843 0.99607843]\n",
      "  [0.99607843 0.99607843 0.99607843]\n",
      "  [0.99607843 0.99607843 0.99607843]\n",
      "  ...\n",
      "  [0.99607843 0.99607843 0.99607843]\n",
      "  [0.99607843 0.99607843 0.99607843]\n",
      "  [0.99607843 0.99607843 0.99607843]]\n",
      "\n",
      " [[0.99607843 0.99607843 0.99607843]\n",
      "  [0.99607843 0.99607843 0.99607843]\n",
      "  [0.99607843 0.99607843 0.99607843]\n",
      "  ...\n",
      "  [0.99607843 0.99607843 0.99607843]\n",
      "  [0.99607843 0.99607843 0.99607843]\n",
      "  [0.99607843 0.99607843 0.99607843]]\n",
      "\n",
      " [[0.99607843 0.99607843 0.99607843]\n",
      "  [0.99607843 0.99607843 0.99607843]\n",
      "  [0.99607843 0.99607843 0.99607843]\n",
      "  ...\n",
      "  [0.99607843 0.99607843 0.99607843]\n",
      "  [0.99607843 0.99607843 0.99607843]\n",
      "  [0.99607843 0.99607843 0.99607843]]], shape=(256, 256, 3), dtype=float32) tf.Tensor(0, shape=(), dtype=int64)\n"
     ]
    },
    {
     "data": {
      "image/png": "[encoded data removed]",
      "text/plain": [
       "<Figure size 432x288 with 1 Axes>"
      ]
     },
     "metadata": {
      "needs_background": "light"
     },
     "output_type": "display_data"
    }
   ],
   "source": [
    "feature_description = { # 定义Feature结构，告诉解码器每个Feature的类型是什么\n",
    "    'image': tf.io.FixedLenFeature([], tf.string),\n",
    "    'label': tf.io.FixedLenFeature([], tf.int64),\n",
    "}\n",
    "\n",
    "def _parse_example(example_string): # 将 TFRecord 文件中的每一个序列化的 tf.train.Example 解码\n",
    "    feature_dict = tf.io.parse_single_example(example_string, feature_description)#读入的是图片\n",
    "    feature_dict['image'] = tf.io.decode_jpeg(feature_dict['image'])    # 解码JPEG图片\n",
    "    feature_dict['image'] = tf.image.resize(feature_dict['image'], [256, 256]) / 255.0\n",
    "    return feature_dict['image'], feature_dict['label']\n",
    "\n",
    "batch_size = 32\n",
    "\n",
    "train_dataset = train_dataset.map(_parse_example)#运用函数，将图片转化为数字矩阵\n",
    "\n",
    "for image,label in train_dataset:\n",
    "    plt.imshow(image.numpy())\n",
    "    print(image,label)\n",
    "    break"
   ]
  },
  {
   "cell_type": "code",
   "execution_count": 12,
   "metadata": {},
   "outputs": [],
   "source": [
    "# 取出前buffer_size个数据放入buffer，并从其中随机采样，采样后的数据用后续数据替换\n",
    "batch_size=32\n",
    "train_dataset = train_dataset.repeat(count=100)#因为数据量有点少\n",
    "train_dataset = train_dataset.shuffle(buffer_size=10000)\n",
    "train_dataset = train_dataset.batch(batch_size)\n",
    "\n",
    "train_dataset = train_dataset.prefetch(tf.data.experimental.AUTOTUNE)"
   ]
  },
  {
   "cell_type": "markdown",
   "metadata": {},
   "source": [
    "### 测试数据集制作缺失，因为没有这个数据集。\n",
    "### 如果采用猫狗数据集，那么就可以得到测试数据集"
   ]
  },
  {
   "cell_type": "markdown",
   "metadata": {},
   "source": [
    "## 构建模型\n"
   ]
  },
  {
   "cell_type": "code",
   "execution_count": 13,
   "metadata": {},
   "outputs": [],
   "source": [
    "class MyModel(tf.keras.Model):\n",
    "\n",
    "    def __init__(self, num_classes=5):\n",
    "        super(MyModel, self).__init__(name='my_model')\n",
    "        self.num_classes = num_classes\n",
    "        # 定义自己需要的层\n",
    "        \n",
    "        self.conv1 = tf.keras.layers.Conv2D(32, 3, activation='relu')\n",
    "        self.maxpool1 = tf.keras.layers.MaxPooling2D()\n",
    "        self.conv2 = tf.keras.layers.Conv2D(32, 5, activation='relu')\n",
    "        self.maxpool2 = tf.keras.layers.MaxPooling2D()\n",
    "        self.flatten = tf.keras.layers.Flatten()\n",
    "        self.d1 = tf.keras.layers.Dense(64, activation='relu')\n",
    "        self.d2 = tf.keras.layers.Dense(self.num_classes, activation='softmax') #sigmoid 和softmax\n",
    "    \n",
    "#     @tf.function(input_signature=[tf.TensorSpec([None,32],tf.float32)])\n",
    "    def call(self, inputs):\n",
    "        #定义前向传播\n",
    "        # 使用在 (in `__init__`)定义的层\n",
    "        x = self.conv1(inputs)\n",
    "        x = self.maxpool1(x)\n",
    "        x = self.conv2(x)\n",
    "        x = self.maxpool2(x)       \n",
    "        x = self.flatten(x)\n",
    "        x = self.d1(x)\n",
    "        x = self.d2(x)\n",
    "        return x"
   ]
  },
  {
   "cell_type": "code",
   "execution_count": 14,
   "metadata": {},
   "outputs": [],
   "source": [
    "# 优化器\n",
    "optimizer = tf.keras.optimizers.SGD(learning_rate=1e-2)\n",
    "# 损失函数\n",
    "loss_object = tf.keras.losses.SparseCategoricalCrossentropy(from_logits=True)\n",
    "\n",
    "# 准备metrics函数\n",
    "train_loss = tf.keras.metrics.Mean(name='train_loss')\n",
    "train_accuracy = tf.keras.metrics.SparseCategoricalAccuracy(name='train_accuracy')\n",
    "\n",
    "# test_loss = tf.keras.metrics.Mean(name='test_loss')\n",
    "# test_accuracy = tf.keras.metrics.SparseCategoricalAccuracy(name='test_accuracy')"
   ]
  },
  {
   "cell_type": "code",
   "execution_count": 15,
   "metadata": {},
   "outputs": [],
   "source": [
    "#运行模型 从效率的角度看，把训练步和测试步作为函数，并且转化为静态图\n",
    "\n",
    "model = MyModel(num_classes=5)\n",
    "\n",
    "@tf.function\n",
    "def train_step(images, labels):\n",
    "    with tf.GradientTape() as tape:\n",
    "        predictions = model(images)\n",
    "        loss = loss_object(labels, predictions)\n",
    "    gradients = tape.gradient(loss, model.trainable_variables)\n",
    "    optimizer.apply_gradients(zip(gradients, model.trainable_variables))\n",
    "\n",
    "    train_loss(loss)\n",
    "    train_accuracy(labels, predictions)\n",
    "\n",
    "# @tf.function\n",
    "# def test_step(images, labels):\n",
    "#     predictions = model(images)\n",
    "#     t_loss = loss_object(labels, predictions)\n",
    "\n",
    "#     test_loss(t_loss)\n",
    "#     test_accuracy(labels, predictions)"
   ]
  },
  {
   "cell_type": "code",
   "execution_count": 16,
   "metadata": {},
   "outputs": [
    {
     "name": "stdout",
     "output_type": "stream",
     "text": [
      "Start of epoch 0\n",
      "Epoch 1, Loss: 1.2274959087371826, Accuracy: 70.26666259765625\n",
      "Start of epoch 1\n",
      "Epoch 2, Loss: 0.9380649924278259, Accuracy: 97.19999694824219\n",
      "Start of epoch 2\n",
      "Epoch 3, Loss: 0.9212743639945984, Accuracy: 98.33333587646484\n"
     ]
    }
   ],
   "source": [
    "# 测试集不存在，把相应代码注释掉\n",
    "epochs = 3\n",
    "for epoch in range(epochs):\n",
    "    print('Start of epoch %d' % (epoch,))\n",
    "    \n",
    "    # 在下一个epoch开始时，重置评估指标\n",
    "    train_loss.reset_states()\n",
    "    train_accuracy.reset_states()\n",
    "#     test_loss.reset_states()\n",
    "#     test_accuracy.reset_states()\n",
    "\n",
    "\n",
    "    for images, labels in train_dataset:\n",
    "        train_step(images, labels)\n",
    "\n",
    "#     for test_images, test_labels in test_dataset:\n",
    "#         test_step(test_images, test_labels)\n",
    "\n",
    "#     template = 'Epoch {}, Loss: {}, Accuracy: {}, Test Loss: {}, Test Accuracy: {}'\n",
    "#     print(template.format(epoch + 1,\n",
    "#                           train_loss.result(),\n",
    "#                           train_accuracy.result() * 100,\n",
    "#                           test_loss.result(),\n",
    "#                           test_accuracy.result() * 100\n",
    "#                          ))\n",
    "    \n",
    "    template = 'Epoch {}, Loss: {}, Accuracy: {}'\n",
    "    print(template.format(epoch + 1,\n",
    "                          train_loss.result(),\n",
    "                          train_accuracy.result() * 100\n",
    "                         ))\n"
   ]
  },
  {
   "cell_type": "markdown",
   "metadata": {},
   "source": [
    "### 跟4.2比，最后结果相同。但是第一个epoch和第二个epoch的结果优于使用datasets。"
   ]
  }
 ],
 "metadata": {
  "kernelspec": {
   "display_name": "Python 3",
   "language": "python",
   "name": "python3"
  },
  "language_info": {
   "codemirror_mode": {
    "name": "ipython",
    "version": 3
   },
   "file_extension": ".py",
   "mimetype": "text/x-python",
   "name": "python",
   "nbconvert_exporter": "python",
   "pygments_lexer": "ipython3",
   "version": "3.7.6"
  }
 },
 "nbformat": 4,
 "nbformat_minor": 4
}
