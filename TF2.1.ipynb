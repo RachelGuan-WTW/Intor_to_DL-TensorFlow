{
 "cells": [
  {
   "cell_type": "code",
   "execution_count": 40,
   "metadata": {},
   "outputs": [
    {
     "name": "stdout",
     "output_type": "stream",
     "text": [
      "2.0.0-rc0\n"
     ]
    }
   ],
   "source": [
    "import tensorflow as tf\n",
    "print(tf.__version__)"
   ]
  },
  {
   "cell_type": "code",
   "execution_count": 3,
   "metadata": {},
   "outputs": [
    {
     "name": "stdout",
     "output_type": "stream",
     "text": [
      "False\n"
     ]
    }
   ],
   "source": [
    "print(tf.test.is_gpu_available())"
   ]
  },
  {
   "cell_type": "markdown",
   "metadata": {},
   "source": [
    "## 张量"
   ]
  },
  {
   "cell_type": "code",
   "execution_count": 10,
   "metadata": {},
   "outputs": [],
   "source": [
    "x1=tf.Variable(\"elephant\",tf.string)"
   ]
  },
  {
   "cell_type": "code",
   "execution_count": 9,
   "metadata": {},
   "outputs": [
    {
     "name": "stdout",
     "output_type": "stream",
     "text": [
      "<tf.Variable 'Variable:0' shape=() dtype=string, numpy=b'elephant'>\n",
      "elephant\n"
     ]
    }
   ],
   "source": [
    "print(x1)\n",
    "tf.print(x1)"
   ]
  },
  {
   "cell_type": "code",
   "execution_count": 11,
   "metadata": {},
   "outputs": [
    {
     "name": "stdout",
     "output_type": "stream",
     "text": [
      "0\n"
     ]
    }
   ],
   "source": [
    "tf.print(tf.rank(x1))"
   ]
  },
  {
   "cell_type": "code",
   "execution_count": 12,
   "metadata": {},
   "outputs": [
    {
     "name": "stdout",
     "output_type": "stream",
     "text": [
      "[]\n"
     ]
    }
   ],
   "source": [
    "tf.print(tf.shape(x1))"
   ]
  },
  {
   "cell_type": "code",
   "execution_count": 13,
   "metadata": {},
   "outputs": [
    {
     "name": "stdout",
     "output_type": "stream",
     "text": [
      "1\n",
      "[1]\n"
     ]
    }
   ],
   "source": [
    "x2=tf.Variable([\"elephant\"],tf.string)\n",
    "tf.print(tf.rank(x2))\n",
    "tf.print(tf.shape(x2))"
   ]
  },
  {
   "cell_type": "code",
   "execution_count": 18,
   "metadata": {},
   "outputs": [
    {
     "name": "stdout",
     "output_type": "stream",
     "text": [
      "2\n",
      "[2 3]\n",
      "[[\"elephant\" \"Kangaroo\" \"lion\"]\n",
      " [\"chick\" \"duck\" \"goose\"]]\n"
     ]
    }
   ],
   "source": [
    "x2=tf.Variable([[\"elephant\",\"Kangaroo\",'lion'],['chick','duck','goose']],tf.string)\n",
    "tf.print(tf.rank(x2))\n",
    "tf.print(tf.shape(x2))\n",
    "tf.print(x2)"
   ]
  },
  {
   "cell_type": "markdown",
   "metadata": {},
   "source": [
    "### 常数张量"
   ]
  },
  {
   "cell_type": "code",
   "execution_count": 20,
   "metadata": {},
   "outputs": [
    {
     "data": {
      "text/plain": [
       "<tf.Tensor: id=122, shape=(3,), dtype=int16, numpy=array([1, 2, 3], dtype=int16)>"
      ]
     },
     "execution_count": 20,
     "metadata": {},
     "output_type": "execute_result"
    }
   ],
   "source": [
    "tf.constant([1,2,3],dtype=tf.int16)"
   ]
  },
  {
   "cell_type": "code",
   "execution_count": 21,
   "metadata": {},
   "outputs": [
    {
     "data": {
      "text/plain": [
       "<tf.Tensor: id=125, shape=(2, 2), dtype=int16, numpy=\n",
       "array([[0, 0],\n",
       "       [0, 0]], dtype=int16)>"
      ]
     },
     "execution_count": 21,
     "metadata": {},
     "output_type": "execute_result"
    }
   ],
   "source": [
    "tf.zeros((2,2),dtype=tf.int16)"
   ]
  },
  {
   "cell_type": "code",
   "execution_count": 24,
   "metadata": {},
   "outputs": [
    {
     "name": "stdout",
     "output_type": "stream",
     "text": [
      "[[1 1 1 ... 1 1 1]\n",
      " [1 1 1 ... 1 1 1]\n",
      " [1 1 1 ... 1 1 1]\n",
      " [1 1 1 ... 1 1 1]\n",
      " [1 1 1 ... 1 1 1]\n",
      " [1 1 1 ... 1 1 1]]\n"
     ]
    }
   ],
   "source": [
    "rank_three_tensor=tf.ones([3,4,5])\n",
    "new_matrix=tf.reshape(rank_three_tensor,[6,10])\n",
    "tf.print(new_matrix)"
   ]
  },
  {
   "cell_type": "markdown",
   "metadata": {},
   "source": [
    "## 操作"
   ]
  },
  {
   "cell_type": "markdown",
   "metadata": {},
   "source": [
    "### tf.strings"
   ]
  },
  {
   "cell_type": "code",
   "execution_count": 27,
   "metadata": {},
   "outputs": [
    {
     "data": {
      "text/plain": [
       "<tf.Tensor: id=256, shape=(11,), dtype=string, numpy=\n",
       "array([b'h', b'e', b'l', b'l', b'o', b' ', b'w', b'o', b'r', b'l', b'd'],\n",
       "      dtype=object)>"
      ]
     },
     "execution_count": 27,
     "metadata": {},
     "output_type": "execute_result"
    }
   ],
   "source": [
    "tf.strings.bytes_split('hello world')"
   ]
  },
  {
   "cell_type": "code",
   "execution_count": 25,
   "metadata": {},
   "outputs": [
    {
     "data": {
      "text/plain": [
       "<tf.Tensor: id=195, shape=(2,), dtype=string, numpy=array([b'hello', b'world'], dtype=object)>"
      ]
     },
     "execution_count": 25,
     "metadata": {},
     "output_type": "execute_result"
    }
   ],
   "source": [
    "tf.strings.split('hello world')"
   ]
  },
  {
   "cell_type": "code",
   "execution_count": 26,
   "metadata": {},
   "outputs": [
    {
     "data": {
      "text/plain": [
       "<tf.Tensor: id=197, shape=(2,), dtype=int64, numpy=array([38, 61], dtype=int64)>"
      ]
     },
     "execution_count": 26,
     "metadata": {},
     "output_type": "execute_result"
    }
   ],
   "source": [
    "tf.strings.to_hash_bucket(['hello','world'],num_buckets=100)"
   ]
  },
  {
   "cell_type": "markdown",
   "metadata": {},
   "source": [
    "### tf.debugging:用于debugs,使用机会少"
   ]
  },
  {
   "cell_type": "code",
   "execution_count": 28,
   "metadata": {},
   "outputs": [],
   "source": [
    "a=tf.random.uniform((10,10))"
   ]
  },
  {
   "cell_type": "code",
   "execution_count": 29,
   "metadata": {},
   "outputs": [],
   "source": [
    "tf.debugging.assert_equal(x=a.shape,y=(10,10))"
   ]
  },
  {
   "cell_type": "code",
   "execution_count": null,
   "metadata": {},
   "outputs": [],
   "source": [
    "tf.debugging.assert_equal(x=a.shape,y=(10,20))"
   ]
  },
  {
   "cell_type": "markdown",
   "metadata": {},
   "source": [
    "### tf.random"
   ]
  },
  {
   "cell_type": "code",
   "execution_count": 32,
   "metadata": {},
   "outputs": [
    {
     "name": "stdout",
     "output_type": "stream",
     "text": [
      "[[0.374935985 0.624134779 0.581524134 ... 0.0494647026 0.21299696 0.591108918]\n",
      " [0.554579139 0.800860286 0.605820775 ... 0.22553277 0.992053151 0.931208491]\n",
      " [0.412311912 0.690237403 0.835447192 ... 0.29886198 0.373683929 0.910890102]\n",
      " ...\n",
      " [0.813340545 0.279341459 0.810765386 ... 0.123179317 0.827406883 0.359028578]\n",
      " [0.0765993595 0.586132526 0.281611204 ... 0.390592575 0.332724929 0.166840672]\n",
      " [0.266418815 0.841287374 0.79472971 ... 0.658883 0.970568657 0.722027898]]\n"
     ]
    }
   ],
   "source": [
    "a=tf.random.uniform((10,10))\n",
    "tf.print(a)"
   ]
  },
  {
   "cell_type": "code",
   "execution_count": 33,
   "metadata": {},
   "outputs": [
    {
     "name": "stdout",
     "output_type": "stream",
     "text": [
      "[[7.98716545 7.96341515 9.39956856 ... 6.33747196 6.62571049 5.8694849]\n",
      " [9.85577488 4.00911236 2.78105974 ... 2.508564 0.630371571 7.77936935]\n",
      " [2.61495113 0.0721681118 9.10708618 ... 6.59230471 2.2546041 7.8329587]\n",
      " ...\n",
      " [3.24115396 0.532734394 2.71878123 ... 0.53666234 7.25714779 6.77472687]\n",
      " [1.84201 2.5020504 8.91274071 ... 9.92867851 6.75694704 6.30240917]\n",
      " [0.329127312 9.29658508 0.168277025 ... 4.98021841 9.23769951 9.95047665]]\n"
     ]
    }
   ],
   "source": [
    "a=tf.random.uniform((10,10),minval=0,maxval=10)\n",
    "tf.print(a)"
   ]
  },
  {
   "cell_type": "markdown",
   "metadata": {},
   "source": [
    "### tf.math"
   ]
  },
  {
   "cell_type": "code",
   "execution_count": 35,
   "metadata": {},
   "outputs": [
    {
     "name": "stdout",
     "output_type": "stream",
     "text": [
      "[[9 11]\n",
      " [9 11]]\n",
      "[[-7 -7]\n",
      " [-3 -3]]\n",
      "[[8 18]\n",
      " [18 28]]\n",
      "[[0.125 0.22222222222222221]\n",
      " [0.5 0.5714285714285714]]\n"
     ]
    }
   ],
   "source": [
    "a=tf.constant([[1,2],[3,4]])\n",
    "b=tf.constant([[8,9],[6,7]])\n",
    "\n",
    "tf.print(tf.math.add(a,b))\n",
    "tf.print(tf.math.subtract(a,b))\n",
    "tf.print(tf.math.multiply(a,b))\n",
    "tf.print(tf.math.divide(a,b))"
   ]
  },
  {
   "cell_type": "markdown",
   "metadata": {},
   "source": [
    "### tf.dtypes"
   ]
  },
  {
   "cell_type": "code",
   "execution_count": 37,
   "metadata": {},
   "outputs": [
    {
     "data": {
      "text/plain": [
       "<tf.Tensor: id=366, shape=(2,), dtype=int32, numpy=array([1, 2])>"
      ]
     },
     "execution_count": 37,
     "metadata": {},
     "output_type": "execute_result"
    }
   ],
   "source": [
    "x=tf.constant([1.8,2],dtype=tf.float32)\n",
    "\n",
    "x1=tf.dtypes.cast(x,tf.int32)\n",
    "x1"
   ]
  },
  {
   "cell_type": "markdown",
   "metadata": {},
   "source": [
    "## 常用层\n",
    "    - tf.keras.layers:基于tf.nn的高度封装\n",
    "    - tf.nn"
   ]
  },
  {
   "cell_type": "code",
   "execution_count": 44,
   "metadata": {},
   "outputs": [],
   "source": [
    "# 文本分类\n",
    "a=tf.random.uniform(shape=(10,100,50),minval=-0.5,maxval=0.5) #张量\n",
    "x1=tf.keras.layers.LSTM(100)(a) # LSTM\n",
    "x2=tf.keras.layers.Dense(10)(x1) # 全连接层\n",
    "x3=tf.nn.softmax(x2) #激活函数\n",
    "\n",
    "# tf.print(a)\n",
    "# print(x1)\n",
    "# print(x2)\n",
    "# print(x3)\n"
   ]
  },
  {
   "cell_type": "markdown",
   "metadata": {},
   "source": [
    "# 三种建模方式\n",
    "    - 顺序（Sequential）\n",
    "    - 函数(Functional),推荐使用，可以更好理解神经网络\n",
    "    - 子类化(Subclassing)"
   ]
  },
  {
   "cell_type": "code",
   "execution_count": 53,
   "metadata": {},
   "outputs": [],
   "source": [
    "### tf.keras.Sequential\n",
    "from tensorflow.keras import layers\n",
    "import tensorflow as tf\n",
    "\n",
    "model=tf.keras.Sequential()\n",
    "model.add(layers.Dense(64,activation='relu',input_shape=(32,)))#第一层\n",
    "model.add(layers.Dense(64,activation='relu'))#第二层\n",
    "model.add(layers.Dense(10))#第三层\n"
   ]
  },
  {
   "cell_type": "code",
   "execution_count": 54,
   "metadata": {},
   "outputs": [],
   "source": [
    "model.compile(optimizer=tf.keras.optimizers.Adam(0.01),\n",
    "                loss=tf.keras.losses.CategoricalCrossentropy(from_logits=True),\n",
    "             metrics=['accuracy'])"
   ]
  },
  {
   "cell_type": "code",
   "execution_count": 62,
   "metadata": {},
   "outputs": [
    {
     "name": "stdout",
     "output_type": "stream",
     "text": [
      "Train on 1000 samples\n",
      "Epoch 1/10\n",
      "1000/1000 [==============================] - 0s 180us/sample - loss: 253703.5762 - accuracy: 0.1110\n",
      "Epoch 2/10\n",
      "1000/1000 [==============================] - 0s 232us/sample - loss: 256421.8115 - accuracy: 0.1090\n",
      "Epoch 3/10\n",
      "1000/1000 [==============================] - 0s 212us/sample - loss: 325821.2849 - accuracy: 0.0850\n",
      "Epoch 4/10\n",
      "1000/1000 [==============================] - 0s 235us/sample - loss: 327319.2104 - accuracy: 0.0980\n",
      "Epoch 5/10\n",
      "1000/1000 [==============================] - 0s 215us/sample - loss: 435901.7737 - accuracy: 0.0950\n",
      "Epoch 6/10\n",
      "1000/1000 [==============================] - 0s 211us/sample - loss: 494963.8838 - accuracy: 0.1170\n",
      "Epoch 7/10\n",
      "1000/1000 [==============================] - 0s 226us/sample - loss: 565023.1934 - accuracy: 0.1090\n",
      "Epoch 8/10\n",
      "1000/1000 [==============================] - 0s 217us/sample - loss: 498747.8983 - accuracy: 0.1040\n",
      "Epoch 9/10\n",
      "1000/1000 [==============================] - 0s 202us/sample - loss: 614800.4565 - accuracy: 0.1080\n",
      "Epoch 10/10\n",
      "1000/1000 [==============================] - 0s 223us/sample - loss: 740380.5881 - accuracy: 0.1080\n"
     ]
    },
    {
     "data": {
      "text/plain": [
       "<tensorflow.python.keras.callbacks.History at 0x15b621a3388>"
      ]
     },
     "execution_count": 62,
     "metadata": {},
     "output_type": "execute_result"
    }
   ],
   "source": [
    "import numpy as np\n",
    "\n",
    "data=np.random.random((1000,32))\n",
    "labels=np.random.random((1000,10))\n",
    "\n",
    "model.fit(data,labels,epochs=10,batch_size=12)"
   ]
  },
  {
   "cell_type": "code",
   "execution_count": 58,
   "metadata": {},
   "outputs": [],
   "source": [
    "### Function Model\n",
    "from tensorflow.keras import layers\n",
    "import tensorflow as tf\n",
    "\n",
    "inputs=tf.keras.Input(shape=(32,))\n",
    "x=layers.Dense(64,activation='relu')(inputs) #第1层\n",
    "x=layers.Dense(64,activation='relu')(x) #第2层\n",
    "prediction=layers.Dense(10)(x)#第3层\n",
    "\n",
    "model=tf.keras.Model(inputs=inputs,outputs=prediction)\n",
    "\n",
    "model.compile(optimizer=tf.keras.optimizers.Adam(0.01),\n",
    "                loss=tf.keras.losses.CategoricalCrossentropy(from_logits=True),\n",
    "             metrics=['accuracy'])"
   ]
  },
  {
   "cell_type": "code",
   "execution_count": 60,
   "metadata": {},
   "outputs": [
    {
     "name": "stdout",
     "output_type": "stream",
     "text": [
      "Train on 1000 samples\n",
      "Epoch 1/10\n",
      "WARNING:tensorflow:Entity <function Function._initialize_uninitialized_variables.<locals>.initialize_variables at 0x0000015B621228B8> could not be transformed and will be executed as-is. Please report this to the AutoGraph team. When filing the bug, set the verbosity to 10 (on Linux, `export AUTOGRAPH_VERBOSITY=10`) and attach the full output. Cause: module 'gast' has no attribute 'Num'\n",
      "WARNING: Entity <function Function._initialize_uninitialized_variables.<locals>.initialize_variables at 0x0000015B621228B8> could not be transformed and will be executed as-is. Please report this to the AutoGraph team. When filing the bug, set the verbosity to 10 (on Linux, `export AUTOGRAPH_VERBOSITY=10`) and attach the full output. Cause: module 'gast' has no attribute 'Num'\n",
      "1000/1000 [==============================] - 1s 842us/sample - loss: 308.5965 - accuracy: 0.0770\n",
      "Epoch 2/10\n",
      "1000/1000 [==============================] - 0s 154us/sample - loss: 3369.5314 - accuracy: 0.0870\n",
      "Epoch 3/10\n",
      "1000/1000 [==============================] - 0s 170us/sample - loss: 12180.1277 - accuracy: 0.1160\n",
      "Epoch 4/10\n",
      "1000/1000 [==============================] - 0s 187us/sample - loss: 24497.9179 - accuracy: 0.1140\n",
      "Epoch 5/10\n",
      "1000/1000 [==============================] - 0s 204us/sample - loss: 46492.6850 - accuracy: 0.1000\n",
      "Epoch 6/10\n",
      "1000/1000 [==============================] - 0s 194us/sample - loss: 66967.7405 - accuracy: 0.0960\n",
      "Epoch 7/10\n",
      "1000/1000 [==============================] - 0s 155us/sample - loss: 89815.3757 - accuracy: 0.0830\n",
      "Epoch 8/10\n",
      "1000/1000 [==============================] - 0s 190us/sample - loss: 159080.3002 - accuracy: 0.0790\n",
      "Epoch 9/10\n",
      "1000/1000 [==============================] - 0s 199us/sample - loss: 149747.7629 - accuracy: 0.1010\n",
      "Epoch 10/10\n",
      "1000/1000 [==============================] - 0s 234us/sample - loss: 196622.5444 - accuracy: 0.0920\n"
     ]
    },
    {
     "data": {
      "text/plain": [
       "<tensorflow.python.keras.callbacks.History at 0x15b621a33c8>"
      ]
     },
     "execution_count": 60,
     "metadata": {},
     "output_type": "execute_result"
    }
   ],
   "source": [
    "import numpy as np\n",
    "\n",
    "data=np.random.random((1000,32))\n",
    "labels=np.random.random((1000,10))\n",
    "\n",
    "model.fit(data,labels,epochs=10,batch_size=12)"
   ]
  },
  {
   "cell_type": "markdown",
   "metadata": {},
   "source": [
    "# 子类模型：Subclassing Model，定义自己的前向传播模型来构建完全可定制的模型\n",
    "### 主要用于科研，调包侠一般不会使用"
   ]
  }
 ],
 "metadata": {
  "kernelspec": {
   "display_name": "Python 3",
   "language": "python",
   "name": "python3"
  },
  "language_info": {
   "codemirror_mode": {
    "name": "ipython",
    "version": 3
   },
   "file_extension": ".py",
   "mimetype": "text/x-python",
   "name": "python",
   "nbconvert_exporter": "python",
   "pygments_lexer": "ipython3",
   "version": "3.7.6"
  }
 },
 "nbformat": 4,
 "nbformat_minor": 4
}
