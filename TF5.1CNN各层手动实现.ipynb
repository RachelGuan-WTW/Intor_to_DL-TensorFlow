{
 "cells": [
  {
   "cell_type": "markdown",
   "metadata": {},
   "source": [
    "手动实现卷积层、池化层、全连接层，对于简单理解这些层的原理特别好用\n",
    "\n",
    "但是你懂得，还是已经打包好了的函数放心好用"
   ]
  },
  {
   "cell_type": "code",
   "execution_count": 1,
   "metadata": {},
   "outputs": [
    {
     "name": "stdout",
     "output_type": "stream",
     "text": [
      "2.0.0\n",
      "True\n"
     ]
    }
   ],
   "source": [
    "import tensorflow as tf\n",
    "print(tf.__version__)\n",
    "print(tf.test.is_gpu_available())\n",
    "import numpy as np"
   ]
  },
  {
   "cell_type": "markdown",
   "metadata": {},
   "source": [
    "### 手动实现卷积层\n",
    "可以与自带tf.keras.layers.Conv2D比较一下"
   ]
  },
  {
   "cell_type": "code",
   "execution_count": 2,
   "metadata": {},
   "outputs": [],
   "source": [
    "inputs_ = np.random.random((10,28,28,3))#输入张量\n",
    "w = np.random.random((6,3,3,3))#卷积核\n",
    "b = np.random.random((6,))#每个通道的偏移量\n",
    "pad=1 ##padding\n",
    "stride=(1,1) #卷积核每次移动的步长"
   ]
  },
  {
   "cell_type": "code",
   "execution_count": 3,
   "metadata": {},
   "outputs": [],
   "source": [
    "x = tf.constant(inputs_)\n",
    "# w_tf = tf.constant(w)\n",
    "# b_tf = tf.constant(b)\n",
    "\n",
    "x = tf.dtypes.cast(x,dtype=tf.float32)\n",
    "# b_tf = tf.dtypes.cast(w_tf,dtype=tf.float32)\n",
    "# b_tf = tf.dtypes.cast(b_tf,dtype=tf.float32)"
   ]
  },
  {
   "cell_type": "code",
   "execution_count": 4,
   "metadata": {},
   "outputs": [],
   "source": [
    "def corr2d(x, w, b, pad, stride):\n",
    "    N, H, W, C = tf.shape(x)\n",
    "    F, HH, WW, C = tf.shape(w)\n",
    "\n",
    "    x = tf.pad(x, ((0, 0),(pad, pad), (pad, pad), (0, 0) ), 'constant')\n",
    "    Hn = 1 + int((H + 2 * pad - HH) / stride[0])\n",
    "    Wn = 1 + int((W + 2 * pad - WW) / stride[1])\n",
    "    Y = tf.Variable(tf.zeros((N, Hn, Wn, F),dtype=tf.float32))\n",
    "\n",
    "    for m in range(F):\n",
    "        for i in range(Hn):\n",
    "            for j in range(Wn):\n",
    "                data = x[:, i * stride[0]:i * 1 + HH, j * stride[1]:j * 1 + WW, :]\n",
    "                filt = w[m,:,:,:]\n",
    "                Y[:, i, j, m].assign(tf.reduce_sum(tf.multiply(data,filt),axis=(1,2,3))+b[m])\n",
    "\n",
    "    return Y"
   ]
  },
  {
   "cell_type": "code",
   "execution_count": 5,
   "metadata": {},
   "outputs": [],
   "source": [
    "a=corr2d(x,w,b,pad,stride)"
   ]
  },
  {
   "cell_type": "code",
   "execution_count": 6,
   "metadata": {},
   "outputs": [
    {
     "data": {
      "text/plain": [
       "TensorShape([10, 28, 28, 6])"
      ]
     },
     "execution_count": 6,
     "metadata": {},
     "output_type": "execute_result"
    }
   ],
   "source": [
    "a.shape"
   ]
  },
  {
   "cell_type": "code",
   "execution_count": 7,
   "metadata": {},
   "outputs": [],
   "source": [
    "# help(tf.keras.layers.Conv2D)"
   ]
  },
  {
   "cell_type": "code",
   "execution_count": 9,
   "metadata": {},
   "outputs": [
    {
     "name": "stdout",
     "output_type": "stream",
     "text": [
      "(10, 26, 26, 6)\n"
     ]
    }
   ],
   "source": [
    "#采用tf自带的卷积层\n",
    "aa=tf.keras.layers.Conv2D(filters=6,kernel_size=(3,3))(x)\n",
    "print(aa.shape)"
   ]
  },
  {
   "cell_type": "markdown",
   "metadata": {},
   "source": [
    "### 手动实现池化层\n",
    "可以与自带的tf.keras.maxPool2D比较一下\n",
    "\n",
    "注意：经过池化层，只有尺寸维度会发生变化"
   ]
  },
  {
   "cell_type": "code",
   "execution_count": 31,
   "metadata": {},
   "outputs": [],
   "source": [
    "def pool2d(x, pool_size=(2,2), stride=(1,1)):\n",
    "    N, H, W, C = tf.shape(x)\n",
    "    pool_h,pool_w=pool_size\n",
    "\n",
    "    Hn = (H-pool_h+1)// stride[0]\n",
    "    Wn = (W -pool_w+1) // stride[1]\n",
    "    print(Hn, Wn)\n",
    "    Y = tf.Variable(tf.zeros((N, Hn, Wn, C),dtype=tf.float32))\n",
    "\n",
    "    for i in range(Hn):\n",
    "        for j in range(Wn):\n",
    "                data = x[:, i * stride[0]:(i * stride[0]+pool_h), j * stride[1]:(j * stride[1]+pool_w), :]\n",
    "                Y[:, i, j, :].assign(tf.reduce_max(data,axis=(1,2)))\n",
    "\n",
    "    return Y"
   ]
  },
  {
   "cell_type": "code",
   "execution_count": 32,
   "metadata": {},
   "outputs": [
    {
     "name": "stdout",
     "output_type": "stream",
     "text": [
      "tf.Tensor(25, shape=(), dtype=int32) tf.Tensor(25, shape=(), dtype=int32)\n"
     ]
    }
   ],
   "source": [
    "bb=pool2d(aa)"
   ]
  },
  {
   "cell_type": "code",
   "execution_count": 30,
   "metadata": {},
   "outputs": [
    {
     "data": {
      "text/plain": [
       "TensorShape([10, 25, 25, 6])"
      ]
     },
     "execution_count": 30,
     "metadata": {},
     "output_type": "execute_result"
    }
   ],
   "source": [
    "bb.shape"
   ]
  },
  {
   "cell_type": "code",
   "execution_count": 34,
   "metadata": {},
   "outputs": [
    {
     "name": "stdout",
     "output_type": "stream",
     "text": [
      "(10, 25, 25, 6)\n"
     ]
    }
   ],
   "source": [
    "cc = tf.keras.layers.MaxPooling2D(pool_size=(2, 2), strides=(1, 1), padding='valid')(aa)\n",
    "print(cc.shape)"
   ]
  },
  {
   "cell_type": "markdown",
   "metadata": {},
   "source": [
    "### 手动实现全连接层\n",
    "\n",
    "全连接层自定义代码可以参见TF3.1。当时没有注意到全连接层其实就是一线性加权 input*w+B=output，其中w和B都是随机生成的"
   ]
  },
  {
   "cell_type": "code",
   "execution_count": 35,
   "metadata": {},
   "outputs": [],
   "source": [
    "#Dense 全连接层\n",
    "class MyDense(tf.keras.layers.Layer):\n",
    "    def __init__(self, units=32, **kwargs):#**kwargs指任意数量的传入参数\n",
    "        self.units = units\n",
    "        super(MyDense, self).__init__(**kwargs)#MyDense继承父类tf.keras.layers.Layer中的__init__定义与参数\n",
    "\n",
    "    #build方法一般定义Layer需要被训练的参数。    \n",
    "    def build(self, input_shape): \n",
    "        self.w = self.add_weight(shape=(input_shape[-1], self.units),\n",
    "                                 initializer='random_normal',\n",
    "                                 trainable=True,\n",
    "                                 name='w')\n",
    "        self.b = self.add_weight(shape=(self.units,),\n",
    "                                 initializer='random_normal',\n",
    "                                 trainable=True,\n",
    "                                 name='b')\n",
    "        super(MyDense,self).build(input_shape) # 相当于设置self.built = True\n",
    "\n",
    "    #call方法一般定义正向传播运算`逻辑，__call__方法调用了它。    \n",
    "    def call(self, inputs): \n",
    "        return tf.matmul(inputs, self.w) + self.b\n",
    "\n",
    "    #如果要让自定义的Layer通过Functional API 组合成模型时可以序列化，需要自定义get_config方法。\n",
    "    def get_config(self):  \n",
    "        config = super(MyDense, self).get_config()\n",
    "        config.update({'units': self.units})##???这个units从哪里来的呢\n",
    "        return config"
   ]
  }
 ],
 "metadata": {
  "kernelspec": {
   "display_name": "Python 3",
   "language": "python",
   "name": "python3"
  },
  "language_info": {
   "codemirror_mode": {
    "name": "ipython",
    "version": 3
   },
   "file_extension": ".py",
   "mimetype": "text/x-python",
   "name": "python",
   "nbconvert_exporter": "python",
   "pygments_lexer": "ipython3",
   "version": "3.7.6"
  }
 },
 "nbformat": 4,
 "nbformat_minor": 4
}
