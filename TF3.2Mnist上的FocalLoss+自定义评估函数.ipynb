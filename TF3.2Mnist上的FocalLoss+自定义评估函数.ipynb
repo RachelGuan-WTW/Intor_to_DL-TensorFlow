{
 "cells": [
  {
   "cell_type": "markdown",
   "metadata": {},
   "source": [
    "# Focal Loss + 自定义评估函数\n",
    "## 基于Mnist数据集上的实战\n",
    "\n",
    "注意：没有GPU来基于Mnist运行模型，虽然不会烧坏CPU，但是速度很慢\n",
    "之前花了一天的功夫，重新安装好了GPU版本\n",
    "\n",
    "为了能运行大数据：\n",
    "- 即使安装了GPU版本，电脑还是出现了散热扇疯狂工作的情况\n",
    "- 关键步骤使用@tf.function将动态图转化为静态图\n"
   ]
  },
  {
   "cell_type": "code",
   "execution_count": 70,
   "metadata": {},
   "outputs": [
    {
     "name": "stdout",
     "output_type": "stream",
     "text": [
      "2.0.0\n",
      "True\n"
     ]
    }
   ],
   "source": [
    "import tensorflow as tf\n",
    "print(tf.__version__)\n",
    "print(tf.test.is_gpu_available()) #测试是都"
   ]
  },
  {
   "cell_type": "code",
   "execution_count": 71,
   "metadata": {},
   "outputs": [],
   "source": [
    "# help(tf.clip_by_value)"
   ]
  },
  {
   "cell_type": "code",
   "execution_count": 86,
   "metadata": {},
   "outputs": [],
   "source": [
    "#多分类的focal loss 损失函数\n",
    "# SparseFocalLoss接受序号编码的y_ture\n",
    "class SparseFocalLoss(tf.keras.losses.Loss):\n",
    "\n",
    "    def __init__(self,gamma=2.0,class_num=10):\n",
    "        self.gamma = gamma\n",
    "        self.class_num = class_num \n",
    "        super(SparseFocalLoss, self).__init__()\n",
    "\n",
    "    def call(self,y_true,y_pred):\n",
    "\n",
    "        #因为预测值为0，会造成对数计算失败\n",
    "        epsilon = tf.keras.backend.epsilon()#1e-07\n",
    "        y_pred = tf.clip_by_value(y_pred, epsilon, 1.0)#将y_pred限制在（epsilon,1）的数值范围内\n",
    "        \n",
    "        y_true = tf.one_hot(y_true,depth=self.class_num)#将label多类转化为多维onehot的情况\n",
    "        y_true = tf.cast(y_true,tf.float32)#类型转化\n",
    "        \n",
    "        loss = -  y_true * tf.math.pow(1 - y_pred, self.gamma) * tf.math.log(y_pred)\n",
    "        \n",
    "        loss_value = tf.math.reduce_sum(loss,axis=1)#reduce_sum是加和求平均的意思\n",
    "        return loss_value\n",
    "\n",
    "# Focal Loss对应的y_true是one-hot编码形式\n",
    "class FocalLoss(tf.keras.losses.Loss):\n",
    "\n",
    "    def __init__(self,gamma=2.0,class_num=10):\n",
    "        self.gamma = gamma\n",
    "        self.class_num = class_num \n",
    "        super(FocalLoss, self).__init__()\n",
    "\n",
    "    def call(self,y_true,y_pred):\n",
    "\n",
    "        #因为预测值为0，会造成对数计算失败\n",
    "        epsilon = tf.keras.backend.epsilon()#1e-07\n",
    "        y_pred = tf.clip_by_value(y_pred, epsilon, 1.0)#将y_pred限制在（epsilon,1）的数值范围内\n",
    "        \n",
    "#         y_true = tf.one_hot(y_true,depth=self.class_num)#不需要将y_true来进行one-hot编码\n",
    "        y_true = tf.cast(y_true,tf.float32)#类型转化\n",
    "        \n",
    "        loss = -  y_true * tf.math.pow(1 - y_pred, self.gamma) * tf.math.log(y_pred)\n",
    "        \n",
    "        loss_value = tf.math.reduce_sum(loss,axis=1)#reduce_sum是加和求平均的意思\n",
    "        return loss_value"
   ]
  },
  {
   "cell_type": "code",
   "execution_count": 73,
   "metadata": {},
   "outputs": [],
   "source": [
    "# focalloss = SparseFocalLoss(gamma=2.0,class_num=3)\n",
    "# a=focalloss(tf.constant([0,1,2]),\n",
    "#          tf.constant([[0.01,0.02,0.9],[0.4,0.7,0.01],[0.5,0.6,0.1]]))\n",
    "# tf.print(a)\n",
    "# #学习类：类声明（首字母大写），__init__初始参数；call返回输入的变量；类调用,f=类（初始参数），f(输入变量)"
   ]
  },
  {
   "cell_type": "markdown",
   "metadata": {},
   "source": [
    "### tf.keras.metrics\n",
    "tf.keras.metrics.BinaryAccuracy 类的实现形式\n",
    "tf.keras.metrics.binary_accuracy 函数实现形式\n",
    "\n",
    "还有分类的评估函数\n",
    "tf.keras.metics.MeanSquaredError\n",
    "tf.keras.metics.MeanAbsoluteError\n",
    "\n",
    "！！！上述与机器学习算法相同\n",
    "\n",
    "tf.keras.metrics.CategorialAccuracy(分类准确性，y_true要求onehot编码形式)\n",
    "tf.keras.metrics.SparseCategorialAccuracy(稀疏分类准确性，y_true要求是序号编码形式)\n",
    "\n",
    "！！！两者区别需要注意，对于y_true的要求格式不同\n"
   ]
  },
  {
   "cell_type": "code",
   "execution_count": 119,
   "metadata": {},
   "outputs": [],
   "source": [
    "# 定义一个评估函数，返回的是一个有权重的正确的个数,而不是比重\n",
    "\n",
    "class CatgoricalTruePositives(tf.keras.metrics.Metric):\n",
    "    def __init__(self, class_num=10,name='categorical_true_positives', **kwargs):\n",
    "        self.class_num = class_num \n",
    "        super(CatgoricalTruePositives, self).__init__(name=name, **kwargs)\n",
    "        self.true_positives = self.add_weight(name='tp', initializer='zeros')\n",
    "        \n",
    "    def update_state(self, y_true, y_pred, sample_weight=None):\n",
    "        y_pred = tf.argmax(y_pred,axis=-1)#返回最大值对应的index\n",
    "        y_pred=tf.one_hot(y_pred, depth=self.class_num)\n",
    "        \n",
    "        values = tf.equal(tf.cast(y_true, 'int32'), tf.cast(y_pred, 'int32'))\n",
    "        values = tf.cast(values, 'float32')\n",
    "        if sample_weight is not None:\n",
    "            sample_weight = tf.cast(sample_weight, 'float32')\n",
    "            values = tf.multiply(values, sample_weight)#处理权重对于结果的影响\n",
    "        self.true_positives.assign_add(tf.reduce_sum(values)) #在现有结果上加上新的计算，而不是直接赋值\n",
    "\n",
    "    def result(self):\n",
    "        return self.true_positives\n",
    "\n",
    "    def reset_states(self):\n",
    "        self.true_positives.assign(0.)"
   ]
  },
  {
   "cell_type": "code",
   "execution_count": 107,
   "metadata": {},
   "outputs": [
    {
     "name": "stdout",
     "output_type": "stream",
     "text": [
      "Help on function argmax_v2 in module tensorflow.python.ops.math_ops:\n",
      "\n",
      "argmax_v2(input, axis=None, output_type=tf.int64, name=None)\n",
      "    Returns the index with the largest value across axes of a tensor.\n",
      "    \n",
      "    Note that in case of ties the identity of the return value is not guaranteed.\n",
      "    \n",
      "    For example:\n",
      "    ```python\n",
      "    A=tf.constant([2,20,30,3,6]) # Constant 1-D Tensor\n",
      "    tf.math.argmax(A) # output 2 as index 2 (A[2]) is maximum in tensor A\n",
      "    B=tf.constant([[2,20,30,3,6],[3,11,16,1,8],[14,45,23,5,27]])\n",
      "    tf.math.argmax(B,0) # [2, 2, 0, 2, 2]\n",
      "    tf.math.argmax(B,1) # [2, 2, 1]\n",
      "    ```\n",
      "     \n",
      "    Args:\n",
      "      input: A `Tensor`. Must be one of the following types: `float32`, `float64`,\n",
      "        `int32`, `uint8`, `int16`, `int8`, `complex64`, `int64`, `qint8`,\n",
      "        `quint8`, `qint32`, `bfloat16`, `uint16`, `complex128`, `half`, `uint32`,\n",
      "        `uint64`.\n",
      "      axis: A `Tensor`. Must be one of the following types: `int32`, `int64`.\n",
      "        int32 or int64, must be in the range `-rank(input), rank(input))`.\n",
      "        Describes which axis of the input Tensor to reduce across. For vectors,\n",
      "        use axis = 0.\n",
      "      output_type: An optional `tf.DType` from: `tf.int32, tf.int64`. Defaults to\n",
      "        `tf.int64`.\n",
      "      name: A name for the operation (optional).\n",
      "    \n",
      "    Returns:\n",
      "      A `Tensor` of type `output_type`.\n",
      "    \n",
      "    Usage:\n",
      "    ```python\n",
      "    import tensorflow as tf\n",
      "    a = [1, 10, 26.9, 2.8, 166.32, 62.3]\n",
      "    b = tf.math.argmax(input = a)\n",
      "    c = tf.keras.backend.eval(b)\n",
      "    # c = 4\n",
      "    # here a[4] = 166.32 which is the largest element of a across axis 0\n",
      "    ```\n",
      "\n"
     ]
    }
   ],
   "source": [
    "help(tf.argmax)"
   ]
  },
  {
   "cell_type": "code",
   "execution_count": 75,
   "metadata": {},
   "outputs": [],
   "source": [
    "# help(tf.keras.metrics.Metric)"
   ]
  },
  {
   "cell_type": "code",
   "execution_count": 76,
   "metadata": {},
   "outputs": [
    {
     "name": "stdout",
     "output_type": "stream",
     "text": [
      "1.0\n"
     ]
    }
   ],
   "source": [
    "# eval_func = CatgoricalTruePositives()\n",
    "# eval_func(tf.constant([0,1,2]),\n",
    "#          tf.constant([0,1,3]))\n",
    "# # tf.print(m)\n",
    "# tf.print(eval_func.result().numpy())\n",
    "# eval_func.reset_states()#感觉并没有将m的值设置为0的功能；不知道有什么用\n",
    "# # 我并不会应用这个类"
   ]
  },
  {
   "cell_type": "markdown",
   "metadata": {},
   "source": [
    "### 基于Mnist数据集建模(自定义模型、keras模型)\n",
    "1. 下载并探究Mnist\n",
    "2. 处理输入输出，训练验证测试\n",
    "3. 构建模型：输入（28x28x1）-->CNN--》flatten--》dense-->dense(10)\n",
    "4. 损失函数、优化器、评估函数\n",
    "5. 运行模型"
   ]
  },
  {
   "cell_type": "markdown",
   "metadata": {},
   "source": [
    "##### 下载并探究Mnist"
   ]
  },
  {
   "cell_type": "code",
   "execution_count": 77,
   "metadata": {},
   "outputs": [],
   "source": [
    "import numpy as np\n",
    "mnist = np.load(\"mnist.npz\")\n",
    "x_train, y_train, x_test, y_test = mnist['x_train'],mnist['y_train'],mnist['x_test'],mnist['y_test']"
   ]
  },
  {
   "cell_type": "code",
   "execution_count": 78,
   "metadata": {},
   "outputs": [
    {
     "name": "stdout",
     "output_type": "stream",
     "text": [
      "(60000, 28, 28)\n",
      "(60000,)\n",
      "(10000, 28, 28)\n",
      "(10000,)\n"
     ]
    }
   ],
   "source": [
    "# mnist是6万张训练图片和1万张测试图片，每张图片的大小是28*28\n",
    "print(x_train.shape)\n",
    "print(y_train.shape)\n",
    "print(x_test.shape)\n",
    "print(y_test.shape)"
   ]
  },
  {
   "cell_type": "code",
   "execution_count": 79,
   "metadata": {},
   "outputs": [],
   "source": [
    "# help(ax.flatten)"
   ]
  },
  {
   "cell_type": "code",
   "execution_count": 80,
   "metadata": {},
   "outputs": [
    {
     "data": {
      "image/png": "[encoded data removed]",
      "text/plain": [
       "<Figure size 432x288 with 10 Axes>"
      ]
     },
     "metadata": {},
     "output_type": "display_data"
    }
   ],
   "source": [
    "# 如何预览一下这个数据呢\n",
    "import matplotlib.pyplot as plt\n",
    " \n",
    "fig, ax = plt.subplots(\n",
    "    nrows=2,\n",
    "    ncols=5,\n",
    "    sharex=True,\n",
    "    sharey=True, )#显示的设置：2行5列\n",
    "\n",
    "ax = ax.flatten()\n",
    "for i in range(10):\n",
    "    img = x_train[y_train == i][0].reshape(28, 28)\n",
    "    ax[i].imshow(img, cmap='Greys', interpolation='nearest')\n",
    "    \n",
    "ax[0].set_xticks([])\n",
    "ax[0].set_yticks([])\n",
    "plt.tight_layout()\n",
    "plt.show()"
   ]
  },
  {
   "cell_type": "markdown",
   "metadata": {},
   "source": [
    "### 2. 处理输入输出，训练验证测试"
   ]
  },
  {
   "cell_type": "code",
   "execution_count": 81,
   "metadata": {},
   "outputs": [],
   "source": [
    "# 数据处理\n",
    "x_train, x_test = x_train / 255.0, x_test / 255.0 #要求对特征进行归一化，因为最大值是255，只要除以255就好了\n",
    "y_train = np.int32(y_train)\n",
    "y_test = np.int32(y_test)\n",
    "# Add a channels dimension\n",
    "x_train = x_train[..., tf.newaxis]#新增的newaxis代表是色彩，如果是1，那么是黑白；如果是3，代表是彩色。\n",
    "x_test = x_test[..., tf.newaxis]\n",
    "\n",
    "#one-hot转化，这一步取决于后续评估函数，如果是categorialAccuracy,那么久需要onehot编码形式\n",
    "y_train = tf.one_hot(y_train,depth=10)\n",
    "y_test = tf.one_hot(y_test,depth=10)\n",
    "\n",
    "#划分为32batch\n",
    "train_ds = tf.data.Dataset.from_tensor_slices((x_train, y_train)).shuffle(10000).batch(32)\n",
    "test_ds = tf.data.Dataset.from_tensor_slices((x_test, y_test)).shuffle(100).batch(32)"
   ]
  },
  {
   "cell_type": "markdown",
   "metadata": {},
   "source": [
    "### 3 构建模型：输入（28x28x1）-->CNN--》flatten--》dense-->dense(10)\n",
    "mykerasmodel 是使用tf.keras.Model打包;\n",
    "myDefinedModel 是继承父类tf.keras.Model"
   ]
  },
  {
   "cell_type": "code",
   "execution_count": 82,
   "metadata": {},
   "outputs": [],
   "source": [
    "def MyKerasModel():\n",
    "    inputs = tf.keras.Input(shape=(28,28,1), name='digits')\n",
    "    x = tf.keras.layers.Conv2D(32, 3, activation='relu')(inputs)\n",
    "    x = tf.keras.layers.Flatten()(x)\n",
    "    x = tf.keras.layers.Dense(128, activation='relu')(x)\n",
    "    outputs = tf.keras.layers.Dense(10,activation='softmax', name='predictions')(x)\n",
    "    model = tf.keras.Model(inputs=inputs, outputs=outputs)\n",
    "    return model"
   ]
  },
  {
   "cell_type": "code",
   "execution_count": 83,
   "metadata": {},
   "outputs": [],
   "source": [
    "class MyDefinedModel(tf.keras.Model):\n",
    "    def __init__(self):\n",
    "        super(MyModel, self).__init__()\n",
    "        self.conv1 = Conv2D(32, 3, activation='relu')\n",
    "        self.flatten = Flatten()\n",
    "        self.d1 = Dense(128, activation='relu')\n",
    "        self.d2 = Dense(10, activation='softmax')\n",
    "\n",
    "    def call(self, x):\n",
    "        x = self.conv1(x)\n",
    "        x = self.flatten(x)\n",
    "        x = self.d1(x)\n",
    "        return self.d2(x)"
   ]
  },
  {
   "cell_type": "code",
   "execution_count": 120,
   "metadata": {},
   "outputs": [],
   "source": [
    "mymodel=MyKerasModel()\n",
    "# mymodel=MyDefinedModel()\n",
    "\n",
    "#损失函数\n",
    "# loss_object = tf.keras.losses.CategoricalCrossentropy()\n",
    "loss_object = FocalLoss()\n",
    "\n",
    "#优化器\n",
    "optimizer=tf.keras.optimizers.Adam()\n",
    "\n",
    "#损失函数\n",
    "train_loss = tf.keras.metrics.Mean(name='train_loss')\n",
    "train_accuracy = tf.keras.metrics.CategoricalAccuracy(name='train_accuracy')\n",
    "train_tp=CatgoricalTruePositives(name='train_tp')\n",
    "\n",
    "test_loss = tf.keras.metrics.Mean(name='test_loss')\n",
    "test_accuracy = tf.keras.metrics.CategoricalAccuracy(name='test_accuracy')\n",
    "test_tp=CatgoricalTruePositives(name='test_tp')\n",
    "\n"
   ]
  },
  {
   "cell_type": "code",
   "execution_count": 123,
   "metadata": {},
   "outputs": [],
   "source": [
    "@tf.function\n",
    "def train_step(images, labels):\n",
    "    with tf.GradientTape() as tape:\n",
    "        predictions = mymodel(images)\n",
    "        loss = loss_object(labels, predictions)\n",
    "    gradients = tape.gradient(loss, mymodel.trainable_variables)\n",
    "    optimizer.apply_gradients(zip(gradients, mymodel.trainable_variables))\n",
    "\n",
    "    train_loss(loss)\n",
    "    train_accuracy(labels, predictions)\n",
    "    train_tp(labels,predictions)\n",
    "\n",
    "\n",
    "@tf.function\n",
    "def test_step(images, labels):\n",
    "    predictions = mymodel(images)\n",
    "    t_loss = loss_object(labels, predictions)\n",
    "\n",
    "    test_loss(t_loss)\n",
    "    test_accuracy(labels, predictions)\n",
    "    test_tp(labels,predictions)"
   ]
  },
  {
   "cell_type": "code",
   "execution_count": 125,
   "metadata": {},
   "outputs": [
    {
     "name": "stdout",
     "output_type": "stream",
     "text": [
      "Epoch 1, Loss: 0.002750168554484844, Accuracy: 99.75167083740234, Tp:599702.0, Test Loss: 0.03827527165412903, Test Accuracy: 98.0999984741211, Test Tp:99620.0\n",
      "Epoch 2, Loss: 0.002412648405879736, Accuracy: 99.76000213623047, Tp:599712.0, Test Loss: 0.03190673887729645, Test Accuracy: 98.41999816894531, Test Tp:99684.0\n",
      "Epoch 3, Loss: 0.001734148128889501, Accuracy: 99.8116683959961, Tp:599774.0, Test Loss: 0.02965480089187622, Test Accuracy: 98.43999481201172, Test Tp:99688.0\n",
      "Epoch 4, Loss: 0.0011369034182280302, Accuracy: 99.88333892822266, Tp:599860.0, Test Loss: 0.036331597715616226, Test Accuracy: 98.25999450683594, Test Tp:99652.0\n",
      "Epoch 5, Loss: 0.0011007529683411121, Accuracy: 99.9000015258789, Tp:599880.0, Test Loss: 0.03335016593337059, Test Accuracy: 98.54000091552734, Test Tp:99708.0\n"
     ]
    }
   ],
   "source": [
    "EPOCHS = 5\n",
    "for epoch in range(EPOCHS):\n",
    "    # 在下一个epoch开始时，重置评估指标\n",
    "    train_loss.reset_states()\n",
    "    train_accuracy.reset_states()\n",
    "    train_tp.reset_states()\n",
    "    test_loss.reset_states()\n",
    "    test_accuracy.reset_states()\n",
    "    test_tp.reset_states()\n",
    "\n",
    "    for images, labels in train_ds:\n",
    "        train_step(images, labels)\n",
    "\n",
    "    for test_images, test_labels in test_ds:\n",
    "        test_step(test_images, test_labels)\n",
    "\n",
    "    template = 'Epoch {}, Loss: {}, Accuracy: {}, Tp:{}, Test Loss: {}, Test Accuracy: {}, Test Tp:{}'\n",
    "    print(template.format(epoch + 1,\n",
    "                          train_loss.result(),\n",
    "                          train_accuracy.result() * 100,\n",
    "                          train_tp.result(),\n",
    "                          test_loss.result(),\n",
    "                          test_accuracy.result() * 100,\n",
    "                         test_tp.result()))\n"
   ]
  }
 ],
 "metadata": {
  "kernelspec": {
   "display_name": "Python 3",
   "language": "python",
   "name": "python3"
  },
  "language_info": {
   "codemirror_mode": {
    "name": "ipython",
    "version": 3
   },
   "file_extension": ".py",
   "mimetype": "text/x-python",
   "name": "python",
   "nbconvert_exporter": "python",
   "pygments_lexer": "ipython3",
   "version": "3.7.6"
  }
 },
 "nbformat": 4,
 "nbformat_minor": 4
}
